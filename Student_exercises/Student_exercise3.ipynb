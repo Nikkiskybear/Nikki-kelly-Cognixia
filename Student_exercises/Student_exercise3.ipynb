{
 "cells": [
  {
   "cell_type": "code",
   "execution_count": 2,
   "metadata": {},
   "outputs": [
    {
     "name": "stdout",
     "output_type": "stream",
     "text": [
      "not a int\n",
      "8\n",
      "15.5\n",
      "asdfsd\n",
      "Type not supported will return a int\n",
      "10\n"
     ]
    }
   ],
   "source": [
    "def userinput(type = \"int\"):\n",
    "    if type == \"double\":\n",
    "        x = -1\n",
    "        while not (x >= 0 and x <= 100):\n",
    "            try:\n",
    "                x = float(input(\"enter a double between 0 and 100: \"))\n",
    "            except:\n",
    "                print(\"not a double\")\n",
    "    elif type == \"int\":\n",
    "        x = -1\n",
    "                \n",
    "        while not (x >= 0 and x <= 10):\n",
    "            try:\n",
    "                x= int(input(\"enter a int between 0 and 10: \"))\n",
    "            except:\n",
    "                print(\"not a int\")\n",
    "    elif type == \"string\":\n",
    "        x = \"\"\n",
    "        while not (len(x) > 0 and len(x) <= 10):\n",
    "            try:\n",
    "                x = input(\"enter a string no longer than 10 characters long but more than zero Characters: \")\n",
    "            except:\n",
    "                print(\"not a string\")    \n",
    "    else:\n",
    "        print(\"Type not supported will return a int\")\n",
    "        x = -1\n",
    "        while not (x >= 0 and x <= 10):\n",
    "            try:\n",
    "                x= int(input(\"enter a int between 0 and 10: \"))\n",
    "            except:\n",
    "                print(\"not a int\")    \n",
    "    return x\n",
    "\n",
    "print(userinput())\n",
    "print(userinput(\"double\"))\n",
    "print(userinput(\"string\"))\n",
    "print(userinput(\"list\"))\n",
    "\n",
    "\n"
   ]
  },
  {
   "cell_type": "code",
   "execution_count": 4,
   "metadata": {},
   "outputs": [
    {
     "name": "stdout",
     "output_type": "stream",
     "text": [
      "<attribute 'hour' of 'datetime.datetime' objects>\n"
     ]
    }
   ],
   "source": [
    "import datetime\n",
    "\n",
    "print(datetime.datetime.hour)"
   ]
  }
 ],
 "metadata": {
  "kernelspec": {
   "display_name": "Python 3",
   "language": "python",
   "name": "python3"
  },
  "language_info": {
   "codemirror_mode": {
    "name": "ipython",
    "version": 3
   },
   "file_extension": ".py",
   "mimetype": "text/x-python",
   "name": "python",
   "nbconvert_exporter": "python",
   "pygments_lexer": "ipython3",
   "version": "3.10.5"
  },
  "orig_nbformat": 4
 },
 "nbformat": 4,
 "nbformat_minor": 2
}
