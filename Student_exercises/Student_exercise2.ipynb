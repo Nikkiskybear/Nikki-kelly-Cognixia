{
 "cells": [
  {
   "cell_type": "code",
   "execution_count": 5,
   "metadata": {},
   "outputs": [
    {
     "name": "stdout",
     "output_type": "stream",
     "text": [
      "Not a int\n",
      "please enter for first three programing languages\n"
     ]
    }
   ],
   "source": [
    "\n",
    "def userinput(string):\n",
    "    uinput = -2\n",
    "    while uinput < 0 or uinput > 100:\n",
    "        uinput = input(string)\n",
    "        try:\n",
    "            uinput = int(uinput)\n",
    "        except:\n",
    "            print(\"Not a int\")\n",
    "            uinput = -2\n",
    "        else:\n",
    "            return uinput\n",
    "        \n",
    "        \n",
    "\n",
    "\n",
    "\n",
    "\n",
    "name = input(\"please enter your name: \")\n",
    "\n",
    "age = userinput(\"please enter your age: \")\n",
    "codingYears = userinput(\"please enter the amount of years you have coded for: \")\n",
    "\n",
    "userdict = {\"name\" : name,\n",
    "           \"age\" : age, \n",
    "           \"years coding\" : codingYears}\n",
    "\n",
    "print(\"please enter for first three programing languages\")\n",
    "\n",
    "userinput1 = input(\"language one: \")\n",
    "userinput2 = input(\"language two: \")\n",
    "userinput3 = input(\"language three: \")\n",
    "\n",
    "firstLanguages = (userinput1, userinput2, userinput3)\n",
    "\n",
    "favoriteLanguages = []\n",
    "for i in range(3):\n",
    "    userinput = input(\"please enter your \" + str(i) + \" \" + \"favorite programming language: \" )\n",
    "    favoriteLanguages.append(userinput)\n",
    "\n",
    "setintersection = set(firstLanguages) & set(favoriteLanguages)\n",
    "\n",
    "collectiondict = {\"userdict\" : userdict,\n",
    "                  \"firstLanguages\" : firstLanguages,\n",
    "                  \"favoriteLanguages\" : favoriteLanguages, \n",
    "                  \"setintersection\" : setintersection }\n",
    "try:\n",
    "    files = open(\"employees.txt\", \"a\")\n",
    "except:\n",
    "    files = open(\"employees.txt\", \"w\")\n",
    "    files.close()\n",
    "    files = open(\"employees.txt\", \"a\")\n",
    "\n",
    "files.write(str(collectiondict[\"userdict\"].items()) + \"\\n\")\n",
    "\n",
    "files.write(str(collectiondict[\"firstLanguages\"])  + \"\\n\")\n",
    "\n",
    "files.write(str(collectiondict[\"favoriteLanguages\"])  + \"\\n\")\n",
    "\n",
    "files.write(str(collectiondict[\"setintersection\"])  + \"\\n\")\n",
    "files.close()\n",
    "\n",
    "\n"
   ]
  },
  {
   "cell_type": "code",
   "execution_count": 11,
   "metadata": {},
   "outputs": [
    {
     "name": "stdout",
     "output_type": "stream",
     "text": [
      "Fizzbuzz12Fizz4BuzzFizz78FizzBuzz11Fizz1314Fizzbuzz\n",
      "33\n",
      "60\n",
      "6\n",
      "4\n"
     ]
    }
   ],
   "source": [
    "userinput = int(input(\"please enter a number: \"))\n",
    "\n",
    "fizz = \"\"\n",
    "intsum = 0\n",
    "intSumReal = 0\n",
    "fizzcount = 0\n",
    "buzzcount = 0\n",
    "\n",
    "for i in range(userinput + 1):\n",
    "    if i % 3 == 0 and i % 5 == 0:\n",
    "        fizz += \"Fizzbuzz\"\n",
    "    elif i % 3 == 0:\n",
    "        fizz += \"Fizz\"\n",
    "    elif i % 5 ==0:\n",
    "        fizz += \"Buzz\"\n",
    "    else: \n",
    "        fizz += str(i)\n",
    "        intSumReal += i\n",
    "    #print(str(i) + \" \" + fizz)\n",
    "\n",
    "for i in fizz:\n",
    "    if i.isdigit():\n",
    "        intsum += int(i)\n",
    "    elif i == \"f\" or i == \"F\":\n",
    "        fizzcount += 1\n",
    "    elif i == \"B\" or i == \"b\":\n",
    "        buzzcount += 1\n",
    "    \n",
    "\n",
    "\n",
    "print(fizz)\n",
    "print(intsum)\n",
    "print(intSumReal)\n",
    "print(fizzcount)\n",
    "print(buzzcount)\n"
   ]
  }
 ],
 "metadata": {
  "kernelspec": {
   "display_name": "Python 3",
   "language": "python",
   "name": "python3"
  },
  "language_info": {
   "codemirror_mode": {
    "name": "ipython",
    "version": 3
   },
   "file_extension": ".py",
   "mimetype": "text/x-python",
   "name": "python",
   "nbconvert_exporter": "python",
   "pygments_lexer": "ipython3",
   "version": "3.10.5"
  },
  "orig_nbformat": 4
 },
 "nbformat": 4,
 "nbformat_minor": 2
}
